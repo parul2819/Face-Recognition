{
  "nbformat": 4,
  "nbformat_minor": 0,
  "metadata": {
    "colab": {
      "provenance": [],
      "authorship_tag": "ABX9TyOrEPLoLHaxnslA606xl696",
      "include_colab_link": true
    },
    "kernelspec": {
      "name": "python3",
      "display_name": "Python 3"
    },
    "language_info": {
      "name": "python"
    },
    "accelerator": "GPU",
    "gpuClass": "standard"
  },
  "cells": [
    {
      "cell_type": "markdown",
      "metadata": {
        "id": "view-in-github",
        "colab_type": "text"
      },
      "source": [
        "<a href=\"https://colab.research.google.com/github/parulchutaniphd/Face-Recognition/blob/main/Filter_Photographs.ipynb\" target=\"_parent\"><img src=\"https://colab.research.google.com/assets/colab-badge.svg\" alt=\"Open In Colab\"/></a>"
      ]
    },
    {
      "cell_type": "code",
      "execution_count": 2,
      "metadata": {
        "colab": {
          "base_uri": "https://localhost:8080/"
        },
        "id": "aevMbRZ0x9Z4",
        "outputId": "305600ef-4a65-4465-c54e-4031d1636f83"
      },
      "outputs": [
        {
          "output_type": "stream",
          "name": "stdout",
          "text": [
            "Looking in indexes: https://pypi.org/simple, https://us-python.pkg.dev/colab-wheels/public/simple/\n",
            "Collecting face_recognition\n",
            "  Downloading face_recognition-1.3.0-py2.py3-none-any.whl (15 kB)\n",
            "Requirement already satisfied: numpy in /usr/local/lib/python3.8/dist-packages (from face_recognition) (1.21.6)\n",
            "Requirement already satisfied: dlib>=19.7 in /usr/local/lib/python3.8/dist-packages (from face_recognition) (19.24.0)\n",
            "Collecting face-recognition-models>=0.3.0\n",
            "  Downloading face_recognition_models-0.3.0.tar.gz (100.1 MB)\n",
            "\u001b[2K     \u001b[90m━━━━━━━━━━━━━━━━━━━━━━━━━━━━━━━━━━━━━━━\u001b[0m \u001b[32m100.1/100.1 MB\u001b[0m \u001b[31m9.0 MB/s\u001b[0m eta \u001b[36m0:00:00\u001b[0m\n",
            "\u001b[?25h  Preparing metadata (setup.py) ... \u001b[?25l\u001b[?25hdone\n",
            "Requirement already satisfied: Click>=6.0 in /usr/local/lib/python3.8/dist-packages (from face_recognition) (7.1.2)\n",
            "Requirement already satisfied: Pillow in /usr/local/lib/python3.8/dist-packages (from face_recognition) (7.1.2)\n",
            "Building wheels for collected packages: face-recognition-models\n",
            "  Building wheel for face-recognition-models (setup.py) ... \u001b[?25l\u001b[?25hdone\n",
            "  Created wheel for face-recognition-models: filename=face_recognition_models-0.3.0-py2.py3-none-any.whl size=100566185 sha256=940b74bfb69b22a8dc57f84dfc8ff233f1fbbe7995fd6b0a686baf31938a87a9\n",
            "  Stored in directory: /root/.cache/pip/wheels/b4/4b/8f/751e99d45f089bdf366a7d3e5066db3c2b84a62e4377f534d7\n",
            "Successfully built face-recognition-models\n",
            "Installing collected packages: face-recognition-models, face_recognition\n",
            "Successfully installed face-recognition-models-0.3.0 face_recognition-1.3.0\n"
          ]
        }
      ],
      "source": [
        "!pip install face_recognition"
      ]
    },
    {
      "cell_type": "code",
      "source": [
        "import face_recognition\n",
        "import os\n",
        "import cv2\n",
        "from google.colab.patches import cv2_imshow"
      ],
      "metadata": {
        "id": "K5Rn6agTyAsQ"
      },
      "execution_count": 3,
      "outputs": []
    },
    {
      "cell_type": "code",
      "source": [
        "from google.colab import drive\n",
        "drive.mount('/content/drive')"
      ],
      "metadata": {
        "colab": {
          "base_uri": "https://localhost:8080/"
        },
        "id": "dz_wofdSyAqC",
        "outputId": "a94311c3-bd46-4bd2-b9aa-b636315398f6"
      },
      "execution_count": 4,
      "outputs": [
        {
          "output_type": "stream",
          "name": "stdout",
          "text": [
            "Mounted at /content/drive\n"
          ]
        }
      ]
    },
    {
      "cell_type": "code",
      "source": [
        "ALLOWED_EXTENSIONS = set(['png', 'jpg', 'jpeg'])\n",
        "\n",
        "def allowed_file(filename):\n",
        "  return '.' in filename and filename.rsplit('.', 1)[1].lower() in ALLOWED_EXTENSIONS"
      ],
      "metadata": {
        "id": "OnYAXlG6yAnc"
      },
      "execution_count": 5,
      "outputs": []
    },
    {
      "cell_type": "code",
      "source": [
        "ref_encodings={}\n",
        "\n",
        "for i in os.listdir('/content/drive/MyDrive/MainFolder/ref images'):\n",
        "  if i and allowed_file(i):\n",
        "    ref_name = i.split('.')[0].upper()\n",
        "    ref_image = face_recognition.load_image_file('/content/drive/MyDrive/MainFolder/ref images/{}'.format(i))\n",
        "    ref_image_locations = face_recognition.face_locations(ref_image)#, model=\"cnn\")\n",
        "    ref_image_encoding = face_recognition.face_encodings(ref_image, ref_image_locations)[0]\n",
        "    ref_encodings[ref_name] = ref_image_encoding"
      ],
      "metadata": {
        "id": "TJpZnnNnyAkn"
      },
      "execution_count": 19,
      "outputs": []
    },
    {
      "cell_type": "code",
      "source": [
        "def target_dir(key):\n",
        "  parent_dir = \"/content/drive/MyDrive/MainFolder\"\n",
        "  path = os.path.join(parent_dir, key)\n",
        "  # print(path)\n",
        "\n",
        "  if key in os.listdir('/content/drive/MyDrive/MainFolder'):\n",
        "    # print('Directory already exists')\n",
        "    pass\n",
        "  else:\n",
        "    os.mkdir(path)\n",
        "\n",
        "  return path"
      ],
      "metadata": {
        "id": "XD3XJI3lyAiK"
      },
      "execution_count": 23,
      "outputs": []
    },
    {
      "cell_type": "code",
      "source": [
        "for image in os.listdir('/content/drive/MyDrive/MainFolder'):\n",
        "   if image and allowed_file(image):\n",
        "     group_test_image = face_recognition.load_image_file('/content/drive/MyDrive/MainFolder/{}'.format(image))\n",
        "     group_test_image = cv2.resize(group_test_image, (800,800))\n",
        "     group_test_image_location = face_recognition.face_locations(group_test_image)\n",
        "     # group_test_image_encodings = face_recognition.face_encodings(group_test_image)\n",
        "     \n",
        "     for i in group_test_image_location:\n",
        "       (top, right, bottom, left) = i\n",
        "       cropped_image = group_test_image[top-50:bottom+50, left-50:right+50]\n",
        "       # cropped_image = group_test_image[top:bottom, left:right]\n",
        "       cropped_image_locations = face_recognition.face_locations(cropped_image)#, model=\"cnn\")\n",
        "       cropped_image_encoding = face_recognition.face_encodings(cropped_image)\n",
        "\n",
        "       if len(cropped_image_encoding)!=0:\n",
        "         for key in ref_encodings.keys():\n",
        "           ref_encoding = ref_encodings[key]\n",
        "           path = target_dir(key)\n",
        "           faceDis = face_recognition.face_distance(ref_encoding, cropped_image_encoding)\n",
        "           if faceDis > 0.5:\n",
        "            # print(\"No Match\")\n",
        "            pass\n",
        "           else:\n",
        "            #  tagged_image = cv2.rectangle(group_test_image, (left, top), (right, bottom), (0, 0, 255), 2)\n",
        "            #  cv2_imshow(cv2.resize(group_test_image,(500,500)))\n",
        "             os.chdir(path)\n",
        "             cv2.imwrite(image, group_test_image)#filename, image\n",
        "       else:\n",
        "         pass"
      ],
      "metadata": {
        "id": "k5fhH13kyAfl"
      },
      "execution_count": 24,
      "outputs": []
    },
    {
      "cell_type": "code",
      "source": [],
      "metadata": {
        "id": "UymRjyxvyAdd"
      },
      "execution_count": null,
      "outputs": []
    },
    {
      "cell_type": "code",
      "source": [],
      "metadata": {
        "id": "kLKNIaBAyAbS"
      },
      "execution_count": null,
      "outputs": []
    },
    {
      "cell_type": "code",
      "source": [],
      "metadata": {
        "id": "cG1_kBd7yAZS"
      },
      "execution_count": null,
      "outputs": []
    },
    {
      "cell_type": "code",
      "source": [],
      "metadata": {
        "id": "80cLra26yAXE"
      },
      "execution_count": null,
      "outputs": []
    },
    {
      "cell_type": "code",
      "source": [],
      "metadata": {
        "id": "RtgWybz7yAUp"
      },
      "execution_count": null,
      "outputs": []
    }
  ]
}